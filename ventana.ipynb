{
 "cells": [
  {
   "cell_type": "code",
   "execution_count": 1,
   "id": "365a5a67-a1d8-4b52-95fa-ed533bf9665a",
   "metadata": {},
   "outputs": [],
   "source": [
    "import numpy as np\n",
    "import matplotlib.pyplot as plt\n",
    "import scipy\n",
    "from scipy.optimize import curve_fit, differential_evolution\n",
    "import csv\n",
    "from data_read import data_read\n",
    "from rebinning import rebinning\n",
    "from fit import fit\n",
    "from get_rates import get_rates\n",
    "from get_bkg import get_bkg"
   ]
  },
  {
   "cell_type": "code",
   "execution_count": 2,
   "id": "44404682-8982-40dd-9fc1-1bfa29e841bd",
   "metadata": {},
   "outputs": [],
   "source": [
    "file_name1 = './Data/Gamma data/Ventana temporal/n1.mca'\n",
    "file_name2 = './Data/Gamma data/Ventana temporal/n2.mca'\n",
    "file_namea = './Data/Gamma data/Ventana temporal/nacc.mca'"
   ]
  },
  {
   "cell_type": "code",
   "execution_count": 7,
   "id": "70af7244-a1ce-443c-885f-ccf68ead7eb6",
   "metadata": {},
   "outputs": [],
   "source": [
    "Nch = 8192\n",
    "\n",
    "counts1, T1 = data_read(file_name1)\n",
    "counts2, T2 = data_read(file_name2)\n",
    "countsa, Ta = data_read(file_namea)"
   ]
  },
  {
   "cell_type": "code",
   "execution_count": 8,
   "id": "3fc3cd41-ded3-40f1-94ce-5523fdaa5fb7",
   "metadata": {},
   "outputs": [],
   "source": [
    "N1 = sum(counts1)\n",
    "N2 = sum(counts2)\n",
    "Na = sum(countsa)\n",
    "\n",
    "\n",
    "sN1 = np.sqrt(N1)\n",
    "sT1 = 1/np.sqrt(12)\n",
    "sN2 = np.sqrt(N2)\n",
    "sT2 = 1/np.sqrt(12)\n",
    "sNa = np.sqrt(Na)\n",
    "sTa = 1/np.sqrt(12)"
   ]
  },
  {
   "cell_type": "code",
   "execution_count": 9,
   "id": "9b6c61d8-f4ba-4a9a-b2b3-7660deeee1bf",
   "metadata": {},
   "outputs": [],
   "source": [
    "r1 = N1/T1\n",
    "sr1 = np.sqrt(sN1**2/T1**2 + sT1**2*N1**2/T1**4)\n",
    "r2 = N2/T2\n",
    "sr2 = np.sqrt(sN2**2/T2**2 + sT2**2*N2**2/T2**4)\n",
    "ra = Na/Ta\n",
    "sra = np.sqrt(sNa**2/Ta**2 + sTa**2*Na**2/Ta**4)"
   ]
  },
  {
   "cell_type": "code",
   "execution_count": 10,
   "id": "9a5e7651-27f2-4178-a66f-30ad652259bd",
   "metadata": {},
   "outputs": [
    {
     "name": "stdout",
     "output_type": "stream",
     "text": [
      "r1 = 178.38709677419354\n",
      "sr1 = 1.1230594027540153\n",
      "r2 = 179.43795620437956\n",
      "sr2 = 1.2052897469949053\n",
      "ra = 0.23620309050772628\n",
      "sra = 0.016146686256204853\n"
     ]
    }
   ],
   "source": [
    "print('r1 = '+str(r1))\n",
    "print('sr1 = '+str(sr1))\n",
    "print('r2 = '+str(r2))\n",
    "print('sr2 = '+str(sr2))\n",
    "print('ra = '+str(ra))\n",
    "print('sra = '+str(sra))"
   ]
  },
  {
   "cell_type": "code",
   "execution_count": 11,
   "id": "c03ede35-44f9-4b72-bca7-e86100170b34",
   "metadata": {},
   "outputs": [],
   "source": [
    "tau = ra/(2*r1*r2)\n",
    "stau = np.sqrt(sra**2/(4*r1**2*r2**2) + sr1**2*ra**2/(4*r1**4*r2**2) + sr2**2*ra**2/(4*r1**2*r2**4))"
   ]
  },
  {
   "cell_type": "code",
   "execution_count": 12,
   "id": "087db3e5-2838-4e39-9b84-7e5ed35ce59e",
   "metadata": {},
   "outputs": [
    {
     "name": "stdout",
     "output_type": "stream",
     "text": [
      "3.6895876212928338e-06\n",
      "2.5449469623913867e-07\n"
     ]
    }
   ],
   "source": [
    "print(tau)\n",
    "print(stau)"
   ]
  },
  {
   "cell_type": "code",
   "execution_count": 13,
   "id": "748931f3-bec9-45f1-bd33-0f7863727991",
   "metadata": {},
   "outputs": [
    {
     "data": {
      "text/plain": [
       "27650"
      ]
     },
     "execution_count": 13,
     "metadata": {},
     "output_type": "execute_result"
    }
   ],
   "source": [
    "N1"
   ]
  },
  {
   "cell_type": "code",
   "execution_count": 14,
   "id": "7527c60e-31cb-48e8-8d1b-02087e601d8f",
   "metadata": {},
   "outputs": [
    {
     "data": {
      "text/plain": [
       "24583"
      ]
     },
     "execution_count": 14,
     "metadata": {},
     "output_type": "execute_result"
    }
   ],
   "source": [
    "N2"
   ]
  },
  {
   "cell_type": "code",
   "execution_count": null,
   "id": "3cc32cba-b915-4408-a8fe-f8612a245f63",
   "metadata": {},
   "outputs": [],
   "source": []
  }
 ],
 "metadata": {
  "kernelspec": {
   "display_name": "Python 3 (ipykernel)",
   "language": "python",
   "name": "python3"
  },
  "language_info": {
   "codemirror_mode": {
    "name": "ipython",
    "version": 3
   },
   "file_extension": ".py",
   "mimetype": "text/x-python",
   "name": "python",
   "nbconvert_exporter": "python",
   "pygments_lexer": "ipython3",
   "version": "3.12.0"
  }
 },
 "nbformat": 4,
 "nbformat_minor": 5
}
