{
 "cells": [
  {
   "cell_type": "code",
   "execution_count": 1,
   "id": "365a5a67-a1d8-4b52-95fa-ed533bf9665a",
   "metadata": {},
   "outputs": [],
   "source": [
    "import numpy as np\n",
    "import matplotlib.pyplot as plt\n",
    "import scipy\n",
    "from scipy.optimize import curve_fit, differential_evolution\n",
    "import csv\n",
    "from data_read import data_read\n",
    "from rebinning import rebinning\n",
    "from fit import fit\n",
    "from get_rates import get_rates\n",
    "from get_bkg import get_bkg"
   ]
  },
  {
   "cell_type": "code",
   "execution_count": 2,
   "id": "44404682-8982-40dd-9fc1-1bfa29e841bd",
   "metadata": {},
   "outputs": [],
   "source": [
    "angle = '90'\n",
    "file_name1 = './Data/Gamma data/Coincidencias/'+angle+'-OR-D1-bis.mca'\n",
    "file_name2 = './Data/Gamma data/Coincidencias/'+angle+'-OR-D2-bis.mca'\n",
    "file_namea = './Data/Gamma data/Coincidencias/'+angle+'-AND-bis.mca'"
   ]
  },
  {
   "cell_type": "code",
   "execution_count": 3,
   "id": "70af7244-a1ce-443c-885f-ccf68ead7eb6",
   "metadata": {},
   "outputs": [],
   "source": [
    "Nch = 8192\n",
    "\n",
    "counts1, T1 = data_read(file_name1)\n",
    "counts2, T2 = data_read(file_name2)\n",
    "countsc, Tc = data_read(file_namea)"
   ]
  },
  {
   "cell_type": "code",
   "execution_count": 4,
   "id": "3fc3cd41-ded3-40f1-94ce-5523fdaa5fb7",
   "metadata": {},
   "outputs": [],
   "source": [
    "N1 = sum(counts1)\n",
    "N2 = sum(counts2)\n",
    "Nc = sum(countsc)\n",
    "\n",
    "\n",
    "sN1 = np.sqrt(N1)\n",
    "sT1 = 1/np.sqrt(12)\n",
    "sN2 = np.sqrt(N2)\n",
    "sT2 = 1/np.sqrt(12)\n",
    "sNc = np.sqrt(Nc)\n",
    "sTc = 1/np.sqrt(12)"
   ]
  },
  {
   "cell_type": "code",
   "execution_count": 5,
   "id": "4551b9cc-91db-45f1-b9d5-c390de63a0e8",
   "metadata": {},
   "outputs": [
    {
     "name": "stdout",
     "output_type": "stream",
     "text": [
      "N1 = 5277\n",
      "T1 = 29\n",
      "N2 = 5262\n",
      "T2 = 29\n",
      "Nc = 987\n",
      "Tc = 804\n"
     ]
    }
   ],
   "source": [
    "print('N1 = '+str(N1))\n",
    "print('T1 = '+str(T1))\n",
    "print('N2 = '+str(N2))\n",
    "print('T2 = '+str(T2))\n",
    "print('Nc = '+str(Nc))\n",
    "print('Tc = '+str(Tc))"
   ]
  },
  {
   "cell_type": "code",
   "execution_count": null,
   "id": "3cc32cba-b915-4408-a8fe-f8612a245f63",
   "metadata": {},
   "outputs": [],
   "source": []
  }
 ],
 "metadata": {
  "kernelspec": {
   "display_name": "Python 3 (ipykernel)",
   "language": "python",
   "name": "python3"
  },
  "language_info": {
   "codemirror_mode": {
    "name": "ipython",
    "version": 3
   },
   "file_extension": ".py",
   "mimetype": "text/x-python",
   "name": "python",
   "nbconvert_exporter": "python",
   "pygments_lexer": "ipython3",
   "version": "3.12.0"
  }
 },
 "nbformat": 4,
 "nbformat_minor": 5
}
